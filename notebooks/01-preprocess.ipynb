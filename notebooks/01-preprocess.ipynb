{
 "cells": [
  {
   "cell_type": "code",
   "execution_count": 1,
   "id": "ec93d651",
   "metadata": {},
   "outputs": [],
   "source": [
    "import pandas as pd\n",
    "import numpy as np\n",
    "\n",
    "import seaborn as sns\n",
    "import matplotlib.pyplot as plt\n",
    "import matplotlib.dates as mdates\n",
    "%matplotlib inline\n",
    "\n",
    "import datetime\n",
    "\n",
    "import statsmodels.tsa.api as smt"
   ]
  },
  {
   "cell_type": "code",
   "execution_count": 2,
   "id": "1ac4e76e",
   "metadata": {},
   "outputs": [],
   "source": [
    "def load_data():  \n",
    "    return pd.read_csv('../data/raw/train.csv')  \n",
    "\n",
    "order_data = load_data()"
   ]
  },
  {
   "cell_type": "code",
   "execution_count": 3,
   "id": "2bfa3ec7",
   "metadata": {},
   "outputs": [
    {
     "name": "stdout",
     "output_type": "stream",
     "text": [
      "<class 'pandas.core.frame.DataFrame'>\n",
      "RangeIndex: 8138 entries, 0 to 8137\n",
      "Data columns (total 18 columns):\n",
      " #   Column         Non-Null Count  Dtype  \n",
      "---  ------         --------------  -----  \n",
      " 0   Row ID         8138 non-null   int64  \n",
      " 1   Order ID       8138 non-null   object \n",
      " 2   Order Date     8138 non-null   object \n",
      " 3   Ship Date      8138 non-null   object \n",
      " 4   Ship Mode      8138 non-null   object \n",
      " 5   Customer ID    8138 non-null   object \n",
      " 6   Customer Name  8138 non-null   object \n",
      " 7   Segment        8138 non-null   object \n",
      " 8   Country        8138 non-null   object \n",
      " 9   City           8138 non-null   object \n",
      " 10  State          8138 non-null   object \n",
      " 11  Postal Code    8128 non-null   float64\n",
      " 12  Region         8138 non-null   object \n",
      " 13  Product ID     8138 non-null   object \n",
      " 14  Category       8138 non-null   object \n",
      " 15  Sub-Category   8138 non-null   object \n",
      " 16  Product Name   8138 non-null   object \n",
      " 17  Sales          8138 non-null   float64\n",
      "dtypes: float64(2), int64(1), object(15)\n",
      "memory usage: 1.1+ MB\n"
     ]
    }
   ],
   "source": [
    "order_data.info()"
   ]
  },
  {
   "cell_type": "code",
   "execution_count": 33,
   "id": "65b3b1ac",
   "metadata": {},
   "outputs": [
    {
     "data": {
      "text/html": [
       "<div>\n",
       "<style scoped>\n",
       "    .dataframe tbody tr th:only-of-type {\n",
       "        vertical-align: middle;\n",
       "    }\n",
       "\n",
       "    .dataframe tbody tr th {\n",
       "        vertical-align: top;\n",
       "    }\n",
       "\n",
       "    .dataframe thead th {\n",
       "        text-align: right;\n",
       "    }\n",
       "</style>\n",
       "<table border=\"1\" class=\"dataframe\">\n",
       "  <thead>\n",
       "    <tr style=\"text-align: right;\">\n",
       "      <th></th>\n",
       "      <th>rowId</th>\n",
       "      <th>orderId</th>\n",
       "      <th>orderDate</th>\n",
       "      <th>shipDate</th>\n",
       "      <th>shipMode</th>\n",
       "      <th>customerId</th>\n",
       "      <th>customerName</th>\n",
       "      <th>segment</th>\n",
       "      <th>country</th>\n",
       "      <th>city</th>\n",
       "      <th>state</th>\n",
       "      <th>postalCode</th>\n",
       "      <th>region</th>\n",
       "      <th>productId</th>\n",
       "      <th>category</th>\n",
       "      <th>subcategory</th>\n",
       "      <th>productName</th>\n",
       "      <th>sales</th>\n",
       "    </tr>\n",
       "  </thead>\n",
       "  <tbody>\n",
       "    <tr>\n",
       "      <th>0</th>\n",
       "      <td>7981</td>\n",
       "      <td>CA-2015-103800</td>\n",
       "      <td>1/3/2015</td>\n",
       "      <td>1/7/2015</td>\n",
       "      <td>Standard Class</td>\n",
       "      <td>DP-13000</td>\n",
       "      <td>Darren Powers</td>\n",
       "      <td>Consumer</td>\n",
       "      <td>United States</td>\n",
       "      <td>Houston</td>\n",
       "      <td>Texas</td>\n",
       "      <td>77095.0</td>\n",
       "      <td>Central</td>\n",
       "      <td>OFF-PA-10000174</td>\n",
       "      <td>Office Supplies</td>\n",
       "      <td>Paper</td>\n",
       "      <td>Message Book, Wirebound, Four 5 1/2\" X 4\" Form...</td>\n",
       "      <td>16.448</td>\n",
       "    </tr>\n",
       "    <tr>\n",
       "      <th>1</th>\n",
       "      <td>740</td>\n",
       "      <td>CA-2015-112326</td>\n",
       "      <td>1/4/2015</td>\n",
       "      <td>1/8/2015</td>\n",
       "      <td>Standard Class</td>\n",
       "      <td>PO-19195</td>\n",
       "      <td>Phillina Ober</td>\n",
       "      <td>Home Office</td>\n",
       "      <td>United States</td>\n",
       "      <td>Naperville</td>\n",
       "      <td>Illinois</td>\n",
       "      <td>60540.0</td>\n",
       "      <td>Central</td>\n",
       "      <td>OFF-LA-10003223</td>\n",
       "      <td>Office Supplies</td>\n",
       "      <td>Labels</td>\n",
       "      <td>Avery 508</td>\n",
       "      <td>11.784</td>\n",
       "    </tr>\n",
       "    <tr>\n",
       "      <th>2</th>\n",
       "      <td>741</td>\n",
       "      <td>CA-2015-112326</td>\n",
       "      <td>1/4/2015</td>\n",
       "      <td>1/8/2015</td>\n",
       "      <td>Standard Class</td>\n",
       "      <td>PO-19195</td>\n",
       "      <td>Phillina Ober</td>\n",
       "      <td>Home Office</td>\n",
       "      <td>United States</td>\n",
       "      <td>Naperville</td>\n",
       "      <td>Illinois</td>\n",
       "      <td>60540.0</td>\n",
       "      <td>Central</td>\n",
       "      <td>OFF-ST-10002743</td>\n",
       "      <td>Office Supplies</td>\n",
       "      <td>Storage</td>\n",
       "      <td>SAFCO Boltless Steel Shelving</td>\n",
       "      <td>272.736</td>\n",
       "    </tr>\n",
       "  </tbody>\n",
       "</table>\n",
       "</div>"
      ],
      "text/plain": [
       "   rowId         orderId orderDate  shipDate        shipMode customerId  \\\n",
       "0   7981  CA-2015-103800  1/3/2015  1/7/2015  Standard Class   DP-13000   \n",
       "1    740  CA-2015-112326  1/4/2015  1/8/2015  Standard Class   PO-19195   \n",
       "2    741  CA-2015-112326  1/4/2015  1/8/2015  Standard Class   PO-19195   \n",
       "\n",
       "    customerName      segment        country        city     state  \\\n",
       "0  Darren Powers     Consumer  United States     Houston     Texas   \n",
       "1  Phillina Ober  Home Office  United States  Naperville  Illinois   \n",
       "2  Phillina Ober  Home Office  United States  Naperville  Illinois   \n",
       "\n",
       "   postalCode   region        productId         category subcategory  \\\n",
       "0     77095.0  Central  OFF-PA-10000174  Office Supplies       Paper   \n",
       "1     60540.0  Central  OFF-LA-10003223  Office Supplies      Labels   \n",
       "2     60540.0  Central  OFF-ST-10002743  Office Supplies     Storage   \n",
       "\n",
       "                                         productName    sales  \n",
       "0  Message Book, Wirebound, Four 5 1/2\" X 4\" Form...   16.448  \n",
       "1                                          Avery 508   11.784  \n",
       "2                      SAFCO Boltless Steel Shelving  272.736  "
      ]
     },
     "execution_count": 33,
     "metadata": {},
     "output_type": "execute_result"
    }
   ],
   "source": [
    "order_data.rename(columns={'Row ID':'rowId', 'Order ID':'orderId', 'Order Date':'orderDate', 'Ship Date':'shipDate', 'Ship Mode':'shipMode', 'Customer ID':'customerId', 'Customer Name':'customerName', 'Segment':'segment', 'Country':'country', 'City':'city', 'State':'state', 'Postal Code':'postalCode', 'Region':'region', 'Product ID':'productId', 'Category':'category', 'Sub-Category':'subcategory', 'Product Name':'productName', 'Sales':'sales'}, inplace=True)\n",
    "order_data.head(3)"
   ]
  },
  {
   "cell_type": "code",
   "execution_count": 34,
   "id": "32bf1a43",
   "metadata": {},
   "outputs": [],
   "source": [
    "def monthly_orders(data):\n",
    "    monthly_data = data.copy()\n",
    "    monthly_data.orderDate = monthly_data.orderDate.apply(lambda x: str(x)[:-3])\n",
    "    monthly_data = monthly_data.groupby('orderDate')['sales'].sum().reset_index()\n",
    "    monthly_data.orderDate = pd.to_datetime(monthly_data.orderDate)\n",
    "    return monthly_data"
   ]
  },
  {
   "cell_type": "code",
   "execution_count": 35,
   "id": "949f1ba5",
   "metadata": {},
   "outputs": [
    {
     "data": {
      "text/html": [
       "<div>\n",
       "<style scoped>\n",
       "    .dataframe tbody tr th:only-of-type {\n",
       "        vertical-align: middle;\n",
       "    }\n",
       "\n",
       "    .dataframe tbody tr th {\n",
       "        vertical-align: top;\n",
       "    }\n",
       "\n",
       "    .dataframe thead th {\n",
       "        text-align: right;\n",
       "    }\n",
       "</style>\n",
       "<table border=\"1\" class=\"dataframe\">\n",
       "  <thead>\n",
       "    <tr style=\"text-align: right;\">\n",
       "      <th></th>\n",
       "      <th>orderDate</th>\n",
       "      <th>sales</th>\n",
       "    </tr>\n",
       "  </thead>\n",
       "  <tbody>\n",
       "    <tr>\n",
       "      <th>0</th>\n",
       "      <td>2002-01-01</td>\n",
       "      <td>1481.828</td>\n",
       "    </tr>\n",
       "    <tr>\n",
       "      <th>1</th>\n",
       "      <td>2002-01-10</td>\n",
       "      <td>1247.684</td>\n",
       "    </tr>\n",
       "    <tr>\n",
       "      <th>2</th>\n",
       "      <td>2002-01-11</td>\n",
       "      <td>159.384</td>\n",
       "    </tr>\n",
       "    <tr>\n",
       "      <th>3</th>\n",
       "      <td>2002-01-12</td>\n",
       "      <td>1596.016</td>\n",
       "    </tr>\n",
       "    <tr>\n",
       "      <th>4</th>\n",
       "      <td>2002-01-13</td>\n",
       "      <td>8795.403</td>\n",
       "    </tr>\n",
       "  </tbody>\n",
       "</table>\n",
       "</div>"
      ],
      "text/plain": [
       "   orderDate     sales\n",
       "0 2002-01-01  1481.828\n",
       "1 2002-01-10  1247.684\n",
       "2 2002-01-11   159.384\n",
       "3 2002-01-12  1596.016\n",
       "4 2002-01-13  8795.403"
      ]
     },
     "execution_count": 35,
     "metadata": {},
     "output_type": "execute_result"
    }
   ],
   "source": [
    "monthly_df = monthly_orders(order_data)\n",
    "monthly_df.head()"
   ]
  },
  {
   "cell_type": "code",
   "execution_count": 37,
   "id": "13fc996b",
   "metadata": {},
   "outputs": [
    {
     "name": "stdout",
     "output_type": "stream",
     "text": [
      "1336 days\n",
      "3.66027397260274 years\n"
     ]
    }
   ],
   "source": [
    "# Duration of dataset\n",
    "def orders_duration(data):\n",
    "    data.orderDate = pd.to_datetime(data.orderDate)\n",
    "    number_of_days = data.orderDate.max() - data.orderDate.min()\n",
    "    number_of_years = number_of_days.days / 365\n",
    "    print(number_of_days.days, 'days')\n",
    "    print(number_of_years, 'years')\n",
    "    \n",
    "orders_duration(order_data)"
   ]
  },
  {
   "cell_type": "code",
   "execution_count": 41,
   "id": "db1fec9b",
   "metadata": {},
   "outputs": [
    {
     "data": {
      "image/png": "[encoded data removed]",
      "text/plain": [
       "<Figure size 504x288 with 1 Axes>"
      ]
     },
     "metadata": {
      "needs_background": "light"
     },
     "output_type": "display_data"
    }
   ],
   "source": [
    "def orders_per_day():\n",
    "    fig, ax = plt.subplots(figsize=(7,4))\n",
    "    plt.hist(order_data.sales, color='mediumblue')\n",
    "    \n",
    "    ax.set(xlabel = \"Orders Per day\",\n",
    "           ylabel = \"Count\",\n",
    "           title = \"Distribution of Orders Per Day\")\n",
    "    \n",
    "orders_per_day()"
   ]
  },
  {
   "cell_type": "code",
   "execution_count": null,
   "id": "b1574a3f",
   "metadata": {},
   "outputs": [],
   "source": []
  }
 ],
 "metadata": {
  "kernelspec": {
   "display_name": "Python (venv)",
   "language": "python",
   "name": "venv"
  },
  "language_info": {
   "codemirror_mode": {
    "name": "ipython",
    "version": 3
   },
   "file_extension": ".py",
   "mimetype": "text/x-python",
   "name": "python",
   "nbconvert_exporter": "python",
   "pygments_lexer": "ipython3",
   "version": "3.9.1"
  }
 },
 "nbformat": 4,
 "nbformat_minor": 5
}
