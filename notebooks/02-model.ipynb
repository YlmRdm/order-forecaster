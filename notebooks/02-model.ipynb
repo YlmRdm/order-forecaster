{
 "cells": [
  {
   "cell_type": "code",
   "execution_count": 1,
   "id": "e6b5ec08",
   "metadata": {
    "ExecuteTime": {
     "end_time": "2021-12-12T23:45:41.979966Z",
     "start_time": "2021-12-12T23:45:39.724581Z"
    }
   },
   "outputs": [],
   "source": [
    "# Importing Libraries\n",
    "import pandas as pd\n",
    "import numpy as np\n",
    "from sklearn.metrics import mean_squared_error, mean_absolute_error, r2_score\n",
    "\n",
    "import seaborn as sns\n",
    "import matplotlib.pyplot as plt\n",
    "import matplotlib.dates as mdates\n",
    "%matplotlib inline\n",
    "\n",
    "import datetime\n",
    "\n",
    "import statsmodels.tsa.api as smt\n",
    "import statsmodels.api as sm\n",
    "from statsmodels.tools.eval_measures import rmse\n",
    "import pickle"
   ]
  },
  {
   "cell_type": "markdown",
   "id": "e1a9fa48",
   "metadata": {},
   "source": [
    "### Regressive Modeling"
   ]
  },
  {
   "cell_type": "code",
   "execution_count": 2,
   "id": "8674b973",
   "metadata": {
    "ExecuteTime": {
     "end_time": "2021-12-12T23:45:55.284368Z",
     "start_time": "2021-12-12T23:45:55.280984Z"
    }
   },
   "outputs": [],
   "source": [
    "def generate_supervised(data):\n",
    "    supervised = data.copy()\n",
    "    \n",
    "    # Creating column for each lag\n",
    "    for i in range(1,13):\n",
    "        col_name = 'lag_' + str(i)\n",
    "        supervised[col_name] = supervised['sales_diff'].shift(i)\n",
    "    \n",
    "    # Dropping null values\n",
    "    supervised = supervised.dropna().reset_index(drop=True)\n",
    "    \n",
    "    supervised.to_csv('../data/input/model.csv', index=False)\n",
    "    \n",
    "    return supervised"
   ]
  },
  {
   "cell_type": "code",
   "execution_count": 3,
   "id": "4ccbf8e8",
   "metadata": {
    "ExecuteTime": {
     "end_time": "2021-12-12T23:46:00.792726Z",
     "start_time": "2021-12-12T23:46:00.747290Z"
    }
   },
   "outputs": [],
   "source": [
    "stationary = pd.read_csv('../data/input/stationary.csv')\n",
    "model_df = generate_supervised(stationary)"
   ]
  },
  {
   "cell_type": "markdown",
   "id": "2610cd71",
   "metadata": {},
   "source": [
    "### ARIMA Modeling"
   ]
  },
  {
   "cell_type": "code",
   "execution_count": 4,
   "id": "9a4d2073",
   "metadata": {
    "ExecuteTime": {
     "end_time": "2021-12-12T23:46:09.232844Z",
     "start_time": "2021-12-12T23:46:09.230015Z"
    }
   },
   "outputs": [],
   "source": [
    "def generate_arima_data(data):\n",
    "    dt_data = data.set_index('orderDate').drop('sales', axis=1)\n",
    "    dt_data.dropna(axis=0)\n",
    "    \n",
    "    dt_data.to_csv('../data/output/arima.csv')\n",
    "    \n",
    "    return dt_data"
   ]
  },
  {
   "cell_type": "code",
   "execution_count": 5,
   "id": "a6513f5b",
   "metadata": {
    "ExecuteTime": {
     "end_time": "2021-12-12T23:46:43.562322Z",
     "start_time": "2021-12-12T23:46:43.544665Z"
    }
   },
   "outputs": [
    {
     "data": {
      "text/html": [
       "<div>\n",
       "<style scoped>\n",
       "    .dataframe tbody tr th:only-of-type {\n",
       "        vertical-align: middle;\n",
       "    }\n",
       "\n",
       "    .dataframe tbody tr th {\n",
       "        vertical-align: top;\n",
       "    }\n",
       "\n",
       "    .dataframe thead th {\n",
       "        text-align: right;\n",
       "    }\n",
       "</style>\n",
       "<table border=\"1\" class=\"dataframe\">\n",
       "  <thead>\n",
       "    <tr style=\"text-align: right;\">\n",
       "      <th></th>\n",
       "      <th>Unnamed: 0</th>\n",
       "      <th>sales_diff</th>\n",
       "    </tr>\n",
       "    <tr>\n",
       "      <th>orderDate</th>\n",
       "      <th></th>\n",
       "      <th></th>\n",
       "    </tr>\n",
       "  </thead>\n",
       "  <tbody>\n",
       "    <tr>\n",
       "      <th>2015-01-10</th>\n",
       "      <td>1</td>\n",
       "      <td>-1426.9980</td>\n",
       "    </tr>\n",
       "    <tr>\n",
       "      <th>2016-01-10</th>\n",
       "      <td>2</td>\n",
       "      <td>963.2740</td>\n",
       "    </tr>\n",
       "    <tr>\n",
       "      <th>2017-01-10</th>\n",
       "      <td>3</td>\n",
       "      <td>-843.3540</td>\n",
       "    </tr>\n",
       "    <tr>\n",
       "      <th>2015-01-11</th>\n",
       "      <td>4</td>\n",
       "      <td>-164.8100</td>\n",
       "    </tr>\n",
       "    <tr>\n",
       "      <th>2017-01-11</th>\n",
       "      <td>5</td>\n",
       "      <td>139.5040</td>\n",
       "    </tr>\n",
       "    <tr>\n",
       "      <th>...</th>\n",
       "      <td>...</td>\n",
       "      <td>...</td>\n",
       "    </tr>\n",
       "    <tr>\n",
       "      <th>2015-09-08</th>\n",
       "      <td>1110</td>\n",
       "      <td>11305.7610</td>\n",
       "    </tr>\n",
       "    <tr>\n",
       "      <th>2016-09-08</th>\n",
       "      <td>1111</td>\n",
       "      <td>-14138.7880</td>\n",
       "    </tr>\n",
       "    <tr>\n",
       "      <th>2017-09-08</th>\n",
       "      <td>1112</td>\n",
       "      <td>4404.3436</td>\n",
       "    </tr>\n",
       "    <tr>\n",
       "      <th>2015-09-09</th>\n",
       "      <td>1113</td>\n",
       "      <td>-450.3956</td>\n",
       "    </tr>\n",
       "    <tr>\n",
       "      <th>2017-09-09</th>\n",
       "      <td>1114</td>\n",
       "      <td>-3958.5960</td>\n",
       "    </tr>\n",
       "  </tbody>\n",
       "</table>\n",
       "<p>1114 rows × 2 columns</p>\n",
       "</div>"
      ],
      "text/plain": [
       "            Unnamed: 0  sales_diff\n",
       "orderDate                         \n",
       "2015-01-10           1  -1426.9980\n",
       "2016-01-10           2    963.2740\n",
       "2017-01-10           3   -843.3540\n",
       "2015-01-11           4   -164.8100\n",
       "2017-01-11           5    139.5040\n",
       "...                ...         ...\n",
       "2015-09-08        1110  11305.7610\n",
       "2016-09-08        1111 -14138.7880\n",
       "2017-09-08        1112   4404.3436\n",
       "2015-09-09        1113   -450.3956\n",
       "2017-09-09        1114  -3958.5960\n",
       "\n",
       "[1114 rows x 2 columns]"
      ]
     },
     "execution_count": 5,
     "metadata": {},
     "output_type": "execute_result"
    }
   ],
   "source": [
    "datetime_df = generate_arima_data(stationary)\n",
    "datetime_df"
   ]
  },
  {
   "cell_type": "markdown",
   "id": "d909d678",
   "metadata": {},
   "source": [
    "#### Loading the ARIMA Data"
   ]
  },
  {
   "cell_type": "code",
   "execution_count": 6,
   "id": "26957690",
   "metadata": {
    "ExecuteTime": {
     "end_time": "2021-12-12T23:46:51.586247Z",
     "start_time": "2021-12-12T23:46:51.580746Z"
    }
   },
   "outputs": [],
   "source": [
    "def load_data():\n",
    "    return pd.read_csv('../data/output/arima.csv').set_index('orderDate')\n",
    "\n",
    "arm_data = load_data()"
   ]
  },
  {
   "cell_type": "code",
   "execution_count": 7,
   "id": "70b30d7e",
   "metadata": {
    "ExecuteTime": {
     "end_time": "2021-12-12T23:46:55.604050Z",
     "start_time": "2021-12-12T23:46:55.600573Z"
    }
   },
   "outputs": [],
   "source": [
    "arm_data.index = pd.to_datetime(arm_data.index)"
   ]
  },
  {
   "cell_type": "markdown",
   "id": "1bb0d636",
   "metadata": {},
   "source": [
    "### SARIMAX Modeling"
   ]
  },
  {
   "cell_type": "code",
   "execution_count": 8,
   "id": "f7c51f72",
   "metadata": {
    "ExecuteTime": {
     "end_time": "2021-12-12T23:47:31.532763Z",
     "start_time": "2021-12-12T23:47:31.528710Z"
    }
   },
   "outputs": [],
   "source": [
    "def get_scores(data):\n",
    "    \n",
    "    model_scores = {}\n",
    "    \n",
    "    rmse = np.sqrt(mean_squared_error(data.sales_diff[-12:], data.forecast[-12:]))\n",
    "    mae = mean_absolute_error(data.sales_diff[-12:], data.forecast[-12:])\n",
    "    r2 = r2_score(data.sales_diff[-12:], data.forecast[-12:])\n",
    "    model_scores['ARIMA'] = [rmse, mae, r2]\n",
    "    \n",
    "    print(f\"RMSE: {rmse}\")\n",
    "    print(f\"MAE: {mae}\")\n",
    "    print(f\"R2 Score: {r2}\")\n",
    "    \n",
    "    pickle.dump(model_scores, open( \"..data/output/arima_model_scores.p\", \"wb\" ))"
   ]
  },
  {
   "cell_type": "code",
   "execution_count": 14,
   "id": "952d40e3",
   "metadata": {
    "ExecuteTime": {
     "end_time": "2021-12-12T23:54:04.785528Z",
     "start_time": "2021-12-12T23:54:03.114753Z"
    }
   },
   "outputs": [
    {
     "name": "stderr",
     "output_type": "stream",
     "text": [
      "/Users/yalim/Dev/order-forecaster/venv/lib/python3.10/site-packages/statsmodels/tsa/base/tsa_model.py:593: ValueWarning: A date index has been provided, but it has no associated frequency information and so will be ignored when e.g. forecasting.\n",
      "  warnings.warn('A date index has been provided, but it has no'\n",
      "/Users/yalim/Dev/order-forecaster/venv/lib/python3.10/site-packages/statsmodels/tsa/base/tsa_model.py:597: ValueWarning: A date index has been provided, but it is not monotonic and so will be ignored when e.g. forecasting.\n",
      "  warnings.warn('A date index has been provided, but it is not'\n",
      "/Users/yalim/Dev/order-forecaster/venv/lib/python3.10/site-packages/statsmodels/tsa/base/tsa_model.py:593: ValueWarning: A date index has been provided, but it has no associated frequency information and so will be ignored when e.g. forecasting.\n",
      "  warnings.warn('A date index has been provided, but it has no'\n",
      "/Users/yalim/Dev/order-forecaster/venv/lib/python3.10/site-packages/statsmodels/tsa/base/tsa_model.py:597: ValueWarning: A date index has been provided, but it is not monotonic and so will be ignored when e.g. forecasting.\n",
      "  warnings.warn('A date index has been provided, but it is not'\n",
      " This problem is unconstrained.\n"
     ]
    },
    {
     "name": "stdout",
     "output_type": "stream",
     "text": [
      "RUNNING THE L-BFGS-B CODE\n",
      "\n",
      "           * * *\n",
      "\n",
      "Machine precision = 2.220D-16\n",
      " N =           14     M =           10\n",
      "\n",
      "At X0         0 variables are exactly at the bounds\n",
      "\n",
      "At iterate    0    f=  9.27411D+00    |proj g|=  2.37488D-03\n",
      "\n",
      "At iterate    5    f=  9.27410D+00    |proj g|=  9.04263D-04\n",
      "\n",
      "           * * *\n",
      "\n",
      "Tit   = total number of iterations\n",
      "Tnf   = total number of function evaluations\n",
      "Tnint = total number of segments explored during Cauchy searches\n",
      "Skip  = number of BFGS updates skipped\n",
      "Nact  = number of active bounds at final generalized Cauchy point\n",
      "Projg = norm of the final projected gradient\n",
      "F     = final function value\n",
      "\n",
      "           * * *\n",
      "\n",
      "   N    Tit     Tnf  Tnint  Skip  Nact     Projg        F\n",
      "   14      9     12      1     0     0   8.582D-05   9.274D+00\n",
      "  F =   9.2741000483785587     \n",
      "\n",
      "CONVERGENCE: REL_REDUCTION_OF_F_<=_FACTR*EPSMCH             \n",
      "Checkpoint\n",
      "RMSE: 1881.1756712622034\n",
      "MAE: 1517.2335453271487\n",
      "R2 Score: 0.005289702668369922\n"
     ]
    },
    {
     "data": {
      "image/png": "[encoded data removed]",
      "text/plain": [
       "<Figure size 432x288 with 1 Axes>"
      ]
     },
     "metadata": {
      "needs_background": "light"
     },
     "output_type": "display_data"
    }
   ],
   "source": [
    "def sarimax_model(data):\n",
    "    # Model\n",
    "    sar = sm.tsa.statespace.SARIMAX(arm_data.sales_diff, order=(12,0,0), seasonal_order=(0,1,0,12), trend='c').fit()\n",
    "\n",
    "    # Predictions\n",
    "    start, end, dynamic = 40, 100, 7\n",
    "    data['forecast'] = sar.predict(start=start, end=end, dynamic=dynamic) \n",
    "    pred_df = data.forecast[start+dynamic:end]\n",
    "    print('Checkpoint')\n",
    "    data = data.dropna()\n",
    "    data[['sales_diff', 'forecast']].plot(color=['mediumblue', 'Red'])\n",
    "    \n",
    "    get_scores(data)\n",
    "\n",
    "    return sar, data, pred_df\n",
    "\n",
    "sar, arm_data, predictions = sarimax_model(arm_data)"
   ]
  },
  {
   "cell_type": "code",
   "execution_count": 15,
   "id": "faf963f8",
   "metadata": {
    "ExecuteTime": {
     "end_time": "2021-12-12T23:54:12.019946Z",
     "start_time": "2021-12-12T23:54:11.635934Z"
    }
   },
   "outputs": [
    {
     "data": {
      "image/png": "[encoded data removed]",
      "text/plain": [
       "<Figure size 720x576 with 4 Axes>"
      ]
     },
     "metadata": {
      "needs_background": "light"
     },
     "output_type": "display_data"
    }
   ],
   "source": [
    "sar.plot_diagnostics(figsize=(10, 8));"
   ]
  },
  {
   "cell_type": "markdown",
   "id": "32e7530d",
   "metadata": {},
   "source": [
    "### Conclusion"
   ]
  },
  {
   "cell_type": "code",
   "execution_count": 204,
   "id": "953b4863",
   "metadata": {
    "ExecuteTime": {
     "end_time": "2021-12-13T10:54:57.854605Z",
     "start_time": "2021-12-13T10:54:57.842325Z"
    }
   },
   "outputs": [],
   "source": [
    "def predict_df(prediction_df):\n",
    "    \n",
    "    #load in original dataframe without scaling applied\n",
    "    original_df = pd.read_csv('../data/input/model.csv')\n",
    "    original_df.date = original_df.orderDate.apply(lambda x: str(x)[:-3])\n",
    "    original_df = original_df.groupby('orderDate')['sales'].sum().reset_index()\n",
    "    original_df.date = pd.to_datetime(original_df.orderDate)\n",
    "    \n",
    "    #create dataframe that shows the predicted sales\n",
    "    result_list = []\n",
    "    sales_dates = list(original_df[-13:].orderDate)\n",
    "    act_sales = list(original_df[-13:].sales)\n",
    "    \n",
    "    for i in range(0, len(prediction_df)):\n",
    "        if i < len(sales_dates) - 1:\n",
    "            result_dict = {}\n",
    "            result_dict['pred_value'] = int(prediction_df[i] + act_sales[i])\n",
    "            result_dict['date'] = sales_dates[i+1]\n",
    "            result_list.append(result_dict)\n",
    "        \n",
    "    df_result = pd.DataFrame(result_list)\n",
    "    \n",
    "    return df_result, original_df"
   ]
  },
  {
   "cell_type": "code",
   "execution_count": 209,
   "id": "518fedec",
   "metadata": {
    "ExecuteTime": {
     "end_time": "2021-12-13T10:56:40.119341Z",
     "start_time": "2021-12-13T10:56:40.115270Z"
    },
    "code_folding": []
   },
   "outputs": [],
   "source": [
    "def plot_results(results, original_df, model_name):\n",
    "\n",
    "    fig, ax = plt.subplots(figsize=(15,5))\n",
    "    sns.lineplot(original_df.date, original_df.sales, data=original_df, ax=ax, \n",
    "                label='Original', color='mediumblue')\n",
    "    sns.lineplot(results.date, results.pred_value, data=results, ax=ax, label='Predicted', color='Red')\n",
    "    \n",
    "    ax.set(xlabel = \"Date\",\n",
    "           ylabel = \"Orders\",\n",
    "           title = f\"{model_name} Order Forecaster\")\n",
    "    \n",
    "    ax.legend()\n",
    "    \n",
    "    sns.despine()\n",
    "\n",
    "    plt.savefig('../data/model_output/{model_name}_forecast.png')"
   ]
  },
  {
   "cell_type": "code",
   "execution_count": 210,
   "id": "c91183f2",
   "metadata": {
    "ExecuteTime": {
     "end_time": "2021-12-13T10:56:41.093170Z",
     "start_time": "2021-12-13T10:56:40.759207Z"
    }
   },
   "outputs": [
    {
     "name": "stderr",
     "output_type": "stream",
     "text": [
      "/var/folders/yp/lt2d6kgx5t31h71crmjvs__80000gn/T/ipykernel_54323/1693025742.py:5: UserWarning: Pandas doesn't allow columns to be created via a new attribute name - see https://pandas.pydata.org/pandas-docs/stable/indexing.html#attribute-access\n",
      "  original_df.date = original_df.orderDate.apply(lambda x: str(x)[:-3])\n",
      "/var/folders/yp/lt2d6kgx5t31h71crmjvs__80000gn/T/ipykernel_54323/1693025742.py:7: UserWarning: Pandas doesn't allow columns to be created via a new attribute name - see https://pandas.pydata.org/pandas-docs/stable/indexing.html#attribute-access\n",
      "  original_df.date = pd.to_datetime(original_df.orderDate)\n",
      "/Users/yalim/Dev/order-forecaster/venv/lib/python3.10/site-packages/seaborn/_decorators.py:36: FutureWarning: Pass the following variables as keyword args: x, y. From version 0.12, the only valid positional argument will be `data`, and passing other arguments without an explicit keyword will result in an error or misinterpretation.\n",
      "  warnings.warn(\n",
      "/Users/yalim/Dev/order-forecaster/venv/lib/python3.10/site-packages/seaborn/_decorators.py:36: FutureWarning: Pass the following variables as keyword args: x, y. From version 0.12, the only valid positional argument will be `data`, and passing other arguments without an explicit keyword will result in an error or misinterpretation.\n",
      "  warnings.warn(\n"
     ]
    },
    {
     "data": {
      "image/png": "[encoded data removed]",
      "text/plain": [
       "<Figure size 1080x360 with 1 Axes>"
      ]
     },
     "metadata": {
      "needs_background": "light"
     },
     "output_type": "display_data"
    }
   ],
   "source": [
    "prediction_df, original_df = predict_df(predictions)\n",
    "plot_results(prediction_df, original_df, 'arima')"
   ]
  },
  {
   "cell_type": "code",
   "execution_count": null,
   "id": "53f6854b",
   "metadata": {},
   "outputs": [],
   "source": []
  }
 ],
 "metadata": {
  "interpreter": {
   "hash": "cf95e3f074dbca86fcbfe00141dfe3dcf5fe8b17306f655f7952e7fdffcad5e4"
  },
  "kernelspec": {
   "display_name": "Python 3 (ipykernel)",
   "language": "python",
   "name": "python3"
  },
  "language_info": {
   "codemirror_mode": {
    "name": "ipython",
    "version": 3
   },
   "file_extension": ".py",
   "mimetype": "text/x-python",
   "name": "python",
   "nbconvert_exporter": "python",
   "pygments_lexer": "ipython3",
   "version": "3.10.0"
  },
  "varInspector": {
   "cols": {
    "lenName": 16,
    "lenType": 16,
    "lenVar": 40
   },
   "kernels_config": {
    "python": {
     "delete_cmd_postfix": "",
     "delete_cmd_prefix": "del ",
     "library": "var_list.py",
     "varRefreshCmd": "print(var_dic_list())"
    },
    "r": {
     "delete_cmd_postfix": ") ",
     "delete_cmd_prefix": "rm(",
     "library": "var_list.r",
     "varRefreshCmd": "cat(var_dic_list()) "
    }
   },
   "types_to_exclude": [
    "module",
    "function",
    "builtin_function_or_method",
    "instance",
    "_Feature"
   ],
   "window_display": false
  }
 },
 "nbformat": 4,
 "nbformat_minor": 5
}
